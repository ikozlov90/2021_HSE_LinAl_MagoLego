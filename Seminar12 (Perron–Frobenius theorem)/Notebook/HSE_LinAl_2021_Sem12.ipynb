{
 "cells": [
  {
   "cell_type": "code",
   "execution_count": 1,
   "metadata": {
    "id": "Dk2IJGJ6V4yq"
   },
   "outputs": [],
   "source": [
    "import numpy as np\n",
    "import numpy.linalg as nla\n",
    "import scipy.linalg as sla\n",
    "import copy\n",
    "import pandas as pd"
   ]
  },
  {
   "cell_type": "markdown",
   "metadata": {
    "id": "WOC1MFVyNLgb"
   },
   "source": [
    "**1. Линейная регрессия.**\n",
    "\n",
    "Дорешаем одну старую задачу - про линейную регрессию."
   ]
  },
  {
   "cell_type": "code",
   "execution_count": 2,
   "metadata": {
    "id": "KejLIyl9dyg5"
   },
   "outputs": [],
   "source": [
    "from sklearn.linear_model import LinearRegression"
   ]
  },
  {
   "cell_type": "markdown",
   "metadata": {
    "id": "R-_f6QusNSib"
   },
   "source": [
    "Попробуем предсказать курс доллара.\n",
    "Используем линейную регрессию."
   ]
  },
  {
   "cell_type": "code",
   "execution_count": 3,
   "metadata": {
    "id": "56YfNCX1dyl0"
   },
   "outputs": [],
   "source": [
    "x = [[16, 1], [15, 1], [14, 1], [13, 1], [10, 1], [9, 1]]  #даты\n",
    "y = [76.9808, 75.6826, 77.2535, 77.5104, 77.1657, 77.1011] #курс\n",
    "\n",
    "# Предсказание на сайте: 17.04 \t75.5535\n",
    "# y = a * x + b * 1"
   ]
  },
  {
   "cell_type": "markdown",
   "metadata": {
    "id": "g1rDgDvFNmpa"
   },
   "source": [
    "Обучаем линейную регрессию\n"
   ]
  },
  {
   "cell_type": "code",
   "execution_count": 4,
   "metadata": {
    "colab": {
     "base_uri": "https://localhost:8080/"
    },
    "id": "I5s8V4jIdypd",
    "outputId": "d95a7d38-ace3-49e4-97db-6b06e8094f2e"
   },
   "outputs": [
    {
     "data": {
      "text/plain": [
       "LinearRegression(copy_X=True, fit_intercept=True, n_jobs=None, normalize=False)"
      ]
     },
     "execution_count": 4,
     "metadata": {
      "tags": []
     },
     "output_type": "execute_result"
    }
   ],
   "source": [
    "model = LinearRegression()\n",
    "\n",
    "model.fit(x, y)"
   ]
  },
  {
   "cell_type": "markdown",
   "metadata": {
    "id": "amMpjiqzNqxS"
   },
   "source": [
    "Предсказываем:"
   ]
  },
  {
   "cell_type": "code",
   "execution_count": 5,
   "metadata": {
    "colab": {
     "base_uri": "https://localhost:8080/"
    },
    "id": "PI1t5ivVd35R",
    "outputId": "fb2fbdf8-9c18-4a54-b161-7d8774c4658a"
   },
   "outputs": [
    {
     "data": {
      "text/plain": [
       "array([76.58513433])"
      ]
     },
     "execution_count": 5,
     "metadata": {
      "tags": []
     },
     "output_type": "execute_result"
    }
   ],
   "source": [
    "model.predict([[17, 1]])"
   ]
  },
  {
   "cell_type": "markdown",
   "metadata": {
    "id": "Bl-caAJJNtVu"
   },
   "source": [
    "А теперь проверим, что результат получается умножением на псевдообратную матрицу"
   ]
  },
  {
   "cell_type": "code",
   "execution_count": 6,
   "metadata": {
    "colab": {
     "base_uri": "https://localhost:8080/"
    },
    "id": "NJCCknrOd53B",
    "outputId": "d8cda08b-8c96-42c1-857a-93eeb31e14b2"
   },
   "outputs": [
    {
     "data": {
      "text/plain": [
       "array([-0.08733176, 78.06977425])"
      ]
     },
     "execution_count": 6,
     "metadata": {
      "tags": []
     },
     "output_type": "execute_result"
    }
   ],
   "source": [
    "w = sla.pinv(x)@y\n",
    "w"
   ]
  },
  {
   "cell_type": "code",
   "execution_count": 7,
   "metadata": {
    "colab": {
     "base_uri": "https://localhost:8080/"
    },
    "id": "dghcBxi2d55o",
    "outputId": "983c6489-bd5f-41a5-e698-b81472ca4e25"
   },
   "outputs": [
    {
     "data": {
      "text/plain": [
       "array([76.67246609, 76.75979785, 76.84712961, 76.93446137, 77.19645665,\n",
       "       77.28378841])"
      ]
     },
     "execution_count": 7,
     "metadata": {
      "tags": []
     },
     "output_type": "execute_result"
    }
   ],
   "source": [
    "x@w"
   ]
  },
  {
   "cell_type": "code",
   "execution_count": 8,
   "metadata": {
    "colab": {
     "base_uri": "https://localhost:8080/"
    },
    "id": "Pt697oJzd8vF",
    "outputId": "18bca40e-d8d6-4966-9925-adbfa193e2d3"
   },
   "outputs": [
    {
     "data": {
      "text/plain": [
       "76.58513433476395"
      ]
     },
     "execution_count": 8,
     "metadata": {
      "tags": []
     },
     "output_type": "execute_result"
    }
   ],
   "source": [
    "[17,1]@w"
   ]
  },
  {
   "cell_type": "markdown",
   "metadata": {
    "id": "686BkTT7NyUC"
   },
   "source": [
    "*Сошлось!*"
   ]
  },
  {
   "cell_type": "markdown",
   "metadata": {
    "id": "M_VgyxK5N6V-"
   },
   "source": [
    "**2. Метод итераций**"
   ]
  },
  {
   "cell_type": "code",
   "execution_count": 9,
   "metadata": {
    "id": "ZabT0kxLWV6v"
   },
   "outputs": [],
   "source": [
    "A = [[10, 2, 3], \n",
    "     [2, 10, 3], \n",
    "     [2, 3, 10]]\n",
    "\n",
    "b = [23, 31, 38]\n",
    "\n",
    "# Точное решение  A x = b суть (1, 2, 3)\n",
    "\n",
    "# Простой метод итераций - переходим к \n",
    "# x = P x + y\n",
    "\n",
    "P = [[0, -0.2, -0.3], \n",
    "     [-0.2, 0, -0.3], \n",
    "     [-0.2, -0.3, 0]]\n",
    "\n",
    "y = [2.3, 3.1, 3.8]"
   ]
  },
  {
   "cell_type": "markdown",
   "metadata": {
    "id": "JBOqFFZbOKvZ"
   },
   "source": [
    "Итерационные процесс:"
   ]
  },
  {
   "cell_type": "code",
   "execution_count": 10,
   "metadata": {
    "colab": {
     "base_uri": "https://localhost:8080/"
    },
    "id": "fIq8nSuuWUqF",
    "outputId": "d9570688-f8f0-4918-fc6b-6ef571908f8d"
   },
   "outputs": [
    {
     "name": "stdout",
     "output_type": "stream",
     "text": [
      "[2.3 3.1 3.8]\n",
      "[0.54 1.5  2.41]\n",
      "[1.277 2.269 3.242]\n",
      "[0.8736 1.872  2.8639]\n",
      "[1.0664 2.0661 3.0637]\n",
      "[0.9677 1.9676 2.9669]\n",
      "[1.0164 2.0164 3.0162]\n",
      "[0.9919 1.9919 2.9918]\n",
      "[1.0041 2.0041 3.0041]\n",
      "[0.998 1.998 2.998]\n",
      "[1.001 2.001 3.001]\n",
      "[0.9995 1.9995 2.9995]\n",
      "[1.0003 2.0003 3.0003]\n",
      "[0.9999 1.9999 2.9999]\n",
      "[1.0001 2.0001 3.0001]\n"
     ]
    }
   ],
   "source": [
    "%precision 4\n",
    "\n",
    "x0 = [0, 0, 0]\n",
    "x = x0\n",
    "\n",
    "steps = 15\n",
    "for i in range(steps):\n",
    "  x = y + np.dot(P, x)\n",
    "  print(x) "
   ]
  },
  {
   "cell_type": "markdown",
   "metadata": {
    "id": "hDM7hbjBOO_i"
   },
   "source": [
    "Видно, что процесс быстро сходится к точному решению (1, 2, 3)"
   ]
  },
  {
   "cell_type": "markdown",
   "metadata": {
    "id": "KvFcE3yHOfTq"
   },
   "source": [
    "**3. Метод Зейделя**"
   ]
  },
  {
   "cell_type": "markdown",
   "metadata": {
    "id": "QvVFJcXzOmIz"
   },
   "source": [
    "Представляем A = L + U, где L нижнетреугольная, а U строго верхнетреугольная (т.е. у U нули на диагонали)."
   ]
  },
  {
   "cell_type": "code",
   "execution_count": 11,
   "metadata": {
    "colab": {
     "base_uri": "https://localhost:8080/"
    },
    "id": "hqwnO5haOkBc",
    "outputId": "e9347e48-e894-4c28-bdb0-42e444746124"
   },
   "outputs": [
    {
     "name": "stdout",
     "output_type": "stream",
     "text": [
      "[[10, 0, 0], [2, 10, 0], [2, 3, 10]]\n",
      "[[0, 2, 3], [0, 0, 3], [0, 0, 0]]\n"
     ]
    }
   ],
   "source": [
    "L = copy.deepcopy(A)\n",
    "U = copy.deepcopy(A)\n",
    "\n",
    "for i in range(len(A)):\n",
    "  for j in range(len(A)):\n",
    "    if i >= j:\n",
    "      U[i][j] = 0\n",
    "\n",
    "for i in range(len(A)):\n",
    "  for j in range(len(A)):\n",
    "    if i < j:\n",
    "      L[i][j] = 0\n",
    "\n",
    "print(L)\n",
    "print(U)"
   ]
  },
  {
   "cell_type": "markdown",
   "metadata": {
    "id": "6XJgW3UuO0RM"
   },
   "source": [
    "Метод Зейделя. От исходного уравнения мы переходим к эквивалентному уравнению $$ Lx = b - Ux.$$ Итеративный процесс $$ L x^{(k+1)} = b - Ux ^{(k)}.$$ Фактически это метод простых итераций для $$ x = L^{-1} (b- Ux).$$"
   ]
  },
  {
   "cell_type": "code",
   "execution_count": 12,
   "metadata": {
    "colab": {
     "base_uri": "https://localhost:8080/"
    },
    "id": "4XIgE6HWO13v",
    "outputId": "6120ab9e-ba88-4824-e990-1cb514f02f06"
   },
   "outputs": [
    {
     "name": "stdout",
     "output_type": "stream",
     "text": [
      "[2.3   2.64  2.548]\n",
      "[1.0076 2.1341 2.9583]\n",
      "[0.9857 2.0154 2.9982]\n",
      "[0.9975 2.001  3.0002]\n",
      "[0.9997 2.     3.0001]\n",
      "[1. 2. 3.]\n",
      "[1. 2. 3.]\n",
      "[1. 2. 3.]\n",
      "[1. 2. 3.]\n",
      "[1. 2. 3.]\n",
      "[1. 2. 3.]\n",
      "[1. 2. 3.]\n",
      "[1. 2. 3.]\n",
      "[1. 2. 3.]\n",
      "[1. 2. 3.]\n"
     ]
    }
   ],
   "source": [
    "%precision 4\n",
    "\n",
    "x0 = [0, 0, 0]\n",
    "x = x0\n",
    "\n",
    "steps = 15\n",
    "for i in range(steps):\n",
    "  x = np.dot(nla.inv(L), b - np.dot(U, x))\n",
    "  print(x)"
   ]
  },
  {
   "cell_type": "markdown",
   "metadata": {
    "id": "n_K-_4X9PTag"
   },
   "source": [
    "Преимущество метода Зейделя - его можно реализовать так, что на каждом шаге мы работаем лишь с искомым вектором x и одной строкой матрицы $A$."
   ]
  },
  {
   "cell_type": "code",
   "execution_count": 13,
   "metadata": {
    "colab": {
     "base_uri": "https://localhost:8080/"
    },
    "id": "7cISuVDKv2kV",
    "outputId": "80f6f94a-fa2a-4864-ce5e-6cbdfc74ff40"
   },
   "outputs": [
    {
     "name": "stdout",
     "output_type": "stream",
     "text": [
      "[2.3, 2.64, 2.548]\n",
      "[1.0075999999999998, 2.13408, 2.958256]\n",
      "[0.9857071999999998, 2.0153817600000004, 2.9982440319999997]\n",
      "[0.9974504383999998, 2.00103670272, 3.0001989015039996]\n",
      "[0.9997329890047999, 1.9999937317478402, 3.000055282674688]\n",
      "[0.9999846688480254, 1.9999864814279884, 3.000007121801998]\n",
      "[1.0000005671738026, 1.9999977500246402, 3.0000005615578473]\n",
      "[1.0000002815277176, 1.9999997752271024, 3.0000000111263256]\n",
      "[1.0000000416166817, 1.9999999883387658, 2.999999995175034]\n",
      "[1.0000000037797367, 2.000000000691543, 2.9999999990365893]\n",
      "[1.0000000001507146, 2.0000000002588805, 2.999999999892193]\n",
      "[0.9999999999805659, 2.0000000000362292, 2.999999999993018]\n",
      "[0.9999999999948486, 2.0000000000031246, 3.0000000000000924]\n",
      "[0.9999999999993472, 2.000000000000103, 3.0000000000000995]\n",
      "[0.9999999999999494, 1.9999999999999802, 3.000000000000016]\n"
     ]
    }
   ],
   "source": [
    "%precision 4\n",
    "\n",
    "x0 = [0, 0, 0]\n",
    "x = x0\n",
    "\n",
    "steps = 15\n",
    "for s in range(steps):\n",
    "  for i in range(len(A)):\n",
    "    a = A[i][i]\n",
    "    x[i] = b[i] / a\n",
    "    for j in range(len(A)): # change element i\n",
    "      if i != j:\n",
    "        x[i] -= (A[i][j] * x[j] )/a\n",
    "  print(x)\n"
   ]
  },
  {
   "cell_type": "markdown",
   "metadata": {
    "id": "tFHf3Go2Pp07"
   },
   "source": [
    "**4. Самая влиятельная вершина.** "
   ]
  },
  {
   "cell_type": "markdown",
   "metadata": {
    "id": "bMFmEhJ9QtKC"
   },
   "source": [
    "Рассмотрим неотрицательную матрицу. В столбце j стоят вероятности перейти из вершины j в другие вершины. "
   ]
  },
  {
   "cell_type": "code",
   "execution_count": 14,
   "metadata": {
    "id": "AkDVqrrLPuaR"
   },
   "outputs": [],
   "source": [
    "A = [[0, 1/2, 1/3, 1, 0], \n",
    "     [1, 0, 1/3, 0, 1/3], \n",
    "     [0, 1/2, 0, 0, 1/3],\n",
    "     [0, 0, 0, 0, 1/3],\n",
    "     [0, 0, 1/3, 0, 0]]"
   ]
  },
  {
   "cell_type": "markdown",
   "metadata": {
    "id": "t4ugu66bUeOB"
   },
   "source": [
    "Начнём в вектор $$x^{(0)} = \\left(\\frac{1}{n}, \\dots, \\frac{1}{n}\\right)$$ и применим метод итераций $$ x^{(n)} = A^n x^{(0)}.$$"
   ]
  },
  {
   "cell_type": "code",
   "execution_count": 15,
   "metadata": {
    "colab": {
     "base_uri": "https://localhost:8080/"
    },
    "id": "0EKJJcYCUdUg",
    "outputId": "d24d41d0-a0b5-460e-ecf3-3ddd7309676f"
   },
   "outputs": [
    {
     "name": "stdout",
     "output_type": "stream",
     "text": [
      "На шаге 0 вектор x = [0.3667 0.3333 0.1667 0.0667 0.0667]\n",
      "На шаге 10 вектор x = [0.2919 0.3919 0.2184 0.0243 0.0735]\n",
      "На шаге 20 вектор x = [0.2927 0.3902 0.2196 0.0244 0.0732]\n",
      "На шаге 30 вектор x = [0.2927 0.3902 0.2195 0.0244 0.0732]\n",
      "На шаге 40 вектор x = [0.2927 0.3902 0.2195 0.0244 0.0732]\n",
      "На шаге 50 вектор x = [0.2927 0.3902 0.2195 0.0244 0.0732]\n",
      "На шаге 60 вектор x = [0.2927 0.3902 0.2195 0.0244 0.0732]\n",
      "На шаге 70 вектор x = [0.2927 0.3902 0.2195 0.0244 0.0732]\n",
      "На шаге 80 вектор x = [0.2927 0.3902 0.2195 0.0244 0.0732]\n",
      "На шаге 90 вектор x = [0.2927 0.3902 0.2195 0.0244 0.0732]\n",
      "На шаге 100 вектор x = [0.2927 0.3902 0.2195 0.0244 0.0732]\n"
     ]
    }
   ],
   "source": [
    "x = [1/5, 1/5, 1/5, 1/5, 1/5]\n",
    "\n",
    "for i in range(101):\n",
    "  x = np.dot(A, x)\n",
    "  if i % 10 == 0:\n",
    "    print(\"На шаге {:} вектор x = {:}\".format(i, x))\n"
   ]
  },
  {
   "cell_type": "markdown",
   "metadata": {
    "id": "72Iks2k-Trrs"
   },
   "source": [
    "Посмотрим на точное решение. Отметим, что одно из собственных значений матрицы A - это 1. Действительно: $$(1,1,...,1) A = (1,1,...,1)$$ ведь сумма вероятностей в каждом столбце равна 1."
   ]
  },
  {
   "cell_type": "code",
   "execution_count": 16,
   "metadata": {
    "colab": {
     "base_uri": "https://localhost:8080/"
    },
    "id": "-NOe_0klSg8S",
    "outputId": "881f24bd-065d-4b42-bef4-cfb0a7b5a935"
   },
   "outputs": [
    {
     "data": {
      "text/plain": [
       "array([0., 0., 0., 0., 0.])"
      ]
     },
     "execution_count": 16,
     "metadata": {
      "tags": []
     },
     "output_type": "execute_result"
    }
   ],
   "source": [
    "v = [4, 16/3, 3, 1/3, 1] # собственный вектор \n",
    "np.dot(A, v) - v # собственное значение равно 1"
   ]
  },
  {
   "cell_type": "markdown",
   "metadata": {
    "id": "RmuzlceTUMIa"
   },
   "source": [
    "Нормируем вектор так, чтобы получить вероятности."
   ]
  },
  {
   "cell_type": "code",
   "execution_count": 17,
   "metadata": {
    "colab": {
     "base_uri": "https://localhost:8080/"
    },
    "id": "P9txM6PhTMuw",
    "outputId": "c7730b68-3968-4aa1-834b-f25729a9bb95"
   },
   "outputs": [
    {
     "data": {
      "text/plain": [
       "array([0.2927, 0.3902, 0.2195, 0.0244, 0.0732])"
      ]
     },
     "execution_count": 17,
     "metadata": {
      "tags": []
     },
     "output_type": "execute_result"
    }
   ],
   "source": [
    "v/np.sum(v)"
   ]
  },
  {
   "cell_type": "markdown",
   "metadata": {
    "id": "1_zslqhqUTlU"
   },
   "source": [
    "Это вектор, к которому стремился метод итераций."
   ]
  }
 ],
 "metadata": {
  "colab": {
   "name": "HSE_LinAl_2021_Sem12.ipynb",
   "provenance": []
  },
  "kernelspec": {
   "display_name": "Python 3",
   "language": "python",
   "name": "python3"
  },
  "language_info": {
   "codemirror_mode": {
    "name": "ipython",
    "version": 3
   },
   "file_extension": ".py",
   "mimetype": "text/x-python",
   "name": "python",
   "nbconvert_exporter": "python",
   "pygments_lexer": "ipython3",
   "version": "3.7.7"
  }
 },
 "nbformat": 4,
 "nbformat_minor": 1
}
