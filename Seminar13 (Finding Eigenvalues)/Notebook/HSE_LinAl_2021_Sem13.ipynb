{
  "nbformat": 4,
  "nbformat_minor": 0,
  "metadata": {
    "colab": {
      "name": "HSE_LinAl_2021_Sem13.ipynb",
      "provenance": [],
      "collapsed_sections": []
    },
    "kernelspec": {
      "name": "python3",
      "display_name": "Python 3"
    },
    "language_info": {
      "name": "python"
    }
  },
  "cells": [
    {
      "cell_type": "code",
      "metadata": {
        "id": "QhemKAyOZHgC"
      },
      "source": [
        "import numpy as np\n",
        "import numpy.linalg as nla\n",
        "import scipy.linalg as sla\n",
        "import copy\n",
        "import pandas as pd"
      ],
      "execution_count": 1,
      "outputs": []
    },
    {
      "cell_type": "markdown",
      "metadata": {
        "id": "WYsxOBrTZNOO"
      },
      "source": [
        "**Метод Фадеева-Леверрье**"
      ]
    },
    {
      "cell_type": "markdown",
      "metadata": {
        "id": "tSiZLlZUZ22K"
      },
      "source": [
        "\n",
        "Строим семейство матриц $B_i$ и полиномы $p_i$ по формулам:\n",
        "\n",
        "\\begin{aligned}\n",
        "B_1 = A & \\qquad & p_1 = \\operatorname{tr}B_1 \\\\\n",
        "B_2 = A (B_1 - p_1 I) & \\qquad & p_2 = \\frac{1}{2}\\operatorname{tr}B_2 \\\\\n",
        "\\dots & \\qquad & \\dots \\\\\n",
        "B_{k} = A (B_{k-1} - p_{k-1} I) & \\qquad & p_k = \\frac{1}{k}\\operatorname{tr}B_k \\\\\n",
        "\\dots & \\qquad & \\dots \\\\\n",
        "B_n = A (B_{n-1} - p_{n-1} I) & \\qquad & p_n = \\frac{1}{n}\\operatorname{tr}B_n \n",
        "\\end{aligned}\n"
      ]
    },
    {
      "cell_type": "code",
      "metadata": {
        "id": "2B9xjloyZbd7"
      },
      "source": [
        "A = [[2, -1, 2], \n",
        "     [-1, 2, 1], \n",
        "     [1, -1, 2]]"
      ],
      "execution_count": 2,
      "outputs": []
    },
    {
      "cell_type": "code",
      "metadata": {
        "colab": {
          "base_uri": "https://localhost:8080/"
        },
        "id": "gX-Af2RWZktV",
        "outputId": "62255b4d-913d-4372-ef4b-ae770ef639ca"
      },
      "source": [
        "B1 = A\n",
        "B1"
      ],
      "execution_count": 6,
      "outputs": [
        {
          "output_type": "execute_result",
          "data": {
            "text/plain": [
              "[[2, -1, 2], [-1, 2, 1], [1, -1, 2]]"
            ]
          },
          "metadata": {
            "tags": []
          },
          "execution_count": 6
        }
      ]
    },
    {
      "cell_type": "code",
      "metadata": {
        "colab": {
          "base_uri": "https://localhost:8080/"
        },
        "id": "JKXcsqqxZrEM",
        "outputId": "bdd4fa7b-20ca-42c5-c130-40f28b4c4fbe"
      },
      "source": [
        "p1 = np.trace(B1)\n",
        "p1"
      ],
      "execution_count": 9,
      "outputs": [
        {
          "output_type": "execute_result",
          "data": {
            "text/plain": [
              "6"
            ]
          },
          "metadata": {
            "tags": []
          },
          "execution_count": 9
        }
      ]
    },
    {
      "cell_type": "code",
      "metadata": {
        "colab": {
          "base_uri": "https://localhost:8080/"
        },
        "id": "J9vg3AT2aHEA",
        "outputId": "73bf7fb1-8834-4d50-a408-db21f80a1798"
      },
      "source": [
        "B2 = A@(B1 - p1 * np.identity(3))\n",
        "B2"
      ],
      "execution_count": 12,
      "outputs": [
        {
          "output_type": "execute_result",
          "data": {
            "text/plain": [
              "array([[-5.,  0., -5.],\n",
              "       [ 3., -8., -4.],\n",
              "       [-1.,  1., -7.]])"
            ]
          },
          "metadata": {
            "tags": []
          },
          "execution_count": 12
        }
      ]
    },
    {
      "cell_type": "code",
      "metadata": {
        "colab": {
          "base_uri": "https://localhost:8080/"
        },
        "id": "szwIaCG7aM0b",
        "outputId": "7e09386d-da0c-4f4d-e713-de2b4887592c"
      },
      "source": [
        "p2 = (1/2)*np.trace(B2)\n",
        "p2"
      ],
      "execution_count": 14,
      "outputs": [
        {
          "output_type": "execute_result",
          "data": {
            "text/plain": [
              "-10.0"
            ]
          },
          "metadata": {
            "tags": []
          },
          "execution_count": 14
        }
      ]
    },
    {
      "cell_type": "code",
      "metadata": {
        "colab": {
          "base_uri": "https://localhost:8080/"
        },
        "id": "MlbLopa5ac3z",
        "outputId": "857c9e83-d720-417c-9f79-8847d4baca79"
      },
      "source": [
        "B3 = A@(B2 - p2 * np.identity(3))\n",
        "B3"
      ],
      "execution_count": 15,
      "outputs": [
        {
          "output_type": "execute_result",
          "data": {
            "text/plain": [
              "array([[5., 0., 0.],\n",
              "       [0., 5., 0.],\n",
              "       [0., 0., 5.]])"
            ]
          },
          "metadata": {
            "tags": []
          },
          "execution_count": 15
        }
      ]
    },
    {
      "cell_type": "code",
      "metadata": {
        "colab": {
          "base_uri": "https://localhost:8080/"
        },
        "id": "DfdvkkU5ag7t",
        "outputId": "b69e1ea6-cee6-486b-8b4f-8cfaa9f435ed"
      },
      "source": [
        "p3 = (1/3)*np.trace(B3)\n",
        "p3"
      ],
      "execution_count": 16,
      "outputs": [
        {
          "output_type": "execute_result",
          "data": {
            "text/plain": [
              "5.0"
            ]
          },
          "metadata": {
            "tags": []
          },
          "execution_count": 16
        }
      ]
    },
    {
      "cell_type": "markdown",
      "metadata": {
        "id": "1T7f17TdaqhG"
      },
      "source": [
        "Характеристический многочлен находится по формуле:\n",
        "\n",
        "$$p(\\lambda) = \\lambda^n - p_1 \\lambda^{n-1} - p_2 \\lambda^{n-2}  - \\dots -  p_n. $$\n"
      ]
    },
    {
      "cell_type": "markdown",
      "metadata": {
        "id": "tIs2ez59a-14"
      },
      "source": [
        "В данном случае $$p(x) = x^3 - 6 x^2 + 10 x - 5$$"
      ]
    },
    {
      "cell_type": "markdown",
      "metadata": {
        "id": "IBWsmNWxbbbq"
      },
      "source": [
        "Обратная матрица находится по формуле:\n",
        "\n",
        "$$A^{-1} = \\frac{1}{p_n} (B_{n-1} - p_{n-1} I).$$\n"
      ]
    },
    {
      "cell_type": "code",
      "metadata": {
        "colab": {
          "base_uri": "https://localhost:8080/"
        },
        "id": "UMNu6pYtanZD",
        "outputId": "4551ee3a-1838-4687-c4b4-d5915553c400"
      },
      "source": [
        "A_inv = (1/p3) * (B2 - p2 * np.identity(3))\n",
        "A_inv"
      ],
      "execution_count": 18,
      "outputs": [
        {
          "output_type": "execute_result",
          "data": {
            "text/plain": [
              "array([[ 1. ,  0. , -1. ],\n",
              "       [ 0.6,  0.4, -0.8],\n",
              "       [-0.2,  0.2,  0.6]])"
            ]
          },
          "metadata": {
            "tags": []
          },
          "execution_count": 18
        }
      ]
    },
    {
      "cell_type": "markdown",
      "metadata": {
        "id": "S3KZHlflbnrP"
      },
      "source": [
        "Проверяем, что это действительно обратная матрица:"
      ]
    },
    {
      "cell_type": "code",
      "metadata": {
        "colab": {
          "base_uri": "https://localhost:8080/"
        },
        "id": "IVJ34awaa2_q",
        "outputId": "16ac0c51-8c04-4260-ebde-889b2aedac8f"
      },
      "source": [
        "A_inv @ A"
      ],
      "execution_count": 19,
      "outputs": [
        {
          "output_type": "execute_result",
          "data": {
            "text/plain": [
              "array([[1.00000000e+00, 0.00000000e+00, 0.00000000e+00],\n",
              "       [1.11022302e-16, 1.00000000e+00, 0.00000000e+00],\n",
              "       [0.00000000e+00, 0.00000000e+00, 1.00000000e+00]])"
            ]
          },
          "metadata": {
            "tags": []
          },
          "execution_count": 19
        }
      ]
    },
    {
      "cell_type": "code",
      "metadata": {
        "id": "cyyZDu_vbmd2"
      },
      "source": [
        ""
      ],
      "execution_count": null,
      "outputs": []
    }
  ]
}